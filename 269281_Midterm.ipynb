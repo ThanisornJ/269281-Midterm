{
  "nbformat": 4,
  "nbformat_minor": 0,
  "metadata": {
    "colab": {
      "name": "269281 Midterm.ipynb",
      "provenance": [],
      "collapsed_sections": [],
      "authorship_tag": "ABX9TyNiFSf6znbydp2SAF/8E6Rl",
      "include_colab_link": true
    },
    "kernelspec": {
      "name": "python3",
      "display_name": "Python 3"
    },
    "language_info": {
      "name": "python"
    }
  },
  "cells": [
    {
      "cell_type": "markdown",
      "metadata": {
        "id": "view-in-github",
        "colab_type": "text"
      },
      "source": [
        "<a href=\"https://colab.research.google.com/github/ThanisornJ/269281-Midterm/blob/main/269281_Midterm.ipynb\" target=\"_parent\"><img src=\"https://colab.research.google.com/assets/colab-badge.svg\" alt=\"Open In Colab\"/></a>"
      ]
    },
    {
      "cell_type": "markdown",
      "source": [
        "# 269281 Midterm Review"
      ],
      "metadata": {
        "id": "CHqfOvY5Unsp"
      }
    },
    {
      "cell_type": "code",
      "source": [
        "text = input(\"Please fill in the blank: \")\n",
        "print(text)"
      ],
      "metadata": {
        "colab": {
          "base_uri": "https://localhost:8080/"
        },
        "id": "hoQarUbwBPBz",
        "outputId": "e5d90235-fe03-4d67-a433-45e947e090d8"
      },
      "execution_count": 34,
      "outputs": [
        {
          "output_type": "stream",
          "name": "stdout",
          "text": [
            "Please fill in the blank: Hello World\n",
            "Hello World\n"
          ]
        }
      ]
    },
    {
      "cell_type": "code",
      "source": [
        "text = int(input(\"Please fill in the blank: \"))\n",
        "# text = int(text)\n",
        "print(text + 1)"
      ],
      "metadata": {
        "colab": {
          "base_uri": "https://localhost:8080/"
        },
        "id": "mmV7U4O6Cawa",
        "outputId": "fe85d2a2-1693-4ddd-a94e-90a670635241"
      },
      "execution_count": 32,
      "outputs": [
        {
          "output_type": "stream",
          "name": "stdout",
          "text": [
            "Please fill in the blank: 1\n",
            "2\n"
          ]
        }
      ]
    },
    {
      "cell_type": "code",
      "source": [
        "text = float(input(\"Please fill in the blank: \"))\n",
        "# text = int(text)\n",
        "print(text + 1)"
      ],
      "metadata": {
        "colab": {
          "base_uri": "https://localhost:8080/"
        },
        "id": "qiglZ3VqCoL0",
        "outputId": "6eb7e0b8-a338-46d6-c1f4-eb30ff187539"
      },
      "execution_count": 33,
      "outputs": [
        {
          "output_type": "stream",
          "name": "stdout",
          "text": [
            "Please fill in the blank: 1\n",
            "2.0\n"
          ]
        }
      ]
    },
    {
      "cell_type": "code",
      "source": [
        "print(-10 % 3)"
      ],
      "metadata": {
        "colab": {
          "base_uri": "https://localhost:8080/"
        },
        "id": "1LBr02wmC_6R",
        "outputId": "8f4168af-4b31-4fbc-81c4-a867030199df"
      },
      "execution_count": 37,
      "outputs": [
        {
          "output_type": "stream",
          "name": "stdout",
          "text": [
            "2\n"
          ]
        }
      ]
    },
    {
      "cell_type": "code",
      "source": [
        "print( 1 or 0 )"
      ],
      "metadata": {
        "colab": {
          "base_uri": "https://localhost:8080/"
        },
        "id": "MdAjv4MyEC68",
        "outputId": "d4505f01-2453-4dfc-f823-b4d409dc4d39"
      },
      "execution_count": 43,
      "outputs": [
        {
          "output_type": "stream",
          "name": "stdout",
          "text": [
            "1\n"
          ]
        }
      ]
    },
    {
      "cell_type": "code",
      "source": [
        "text = \"Hello\"\n",
        "text2 = \"World\"\n",
        "print(text + text2)"
      ],
      "metadata": {
        "colab": {
          "base_uri": "https://localhost:8080/"
        },
        "id": "zd8Yd_4UE1By",
        "outputId": "e88e95cc-80b9-4e5b-b3d8-6df88f2eaac0"
      },
      "execution_count": 46,
      "outputs": [
        {
          "output_type": "stream",
          "name": "stdout",
          "text": [
            "HelloWorld\n"
          ]
        }
      ]
    },
    {
      "cell_type": "code",
      "source": [
        "textLength = \"Chiang Mai University\"\n",
        "print(len(textLength))"
      ],
      "metadata": {
        "colab": {
          "base_uri": "https://localhost:8080/"
        },
        "id": "Lzcow6GrFUb9",
        "outputId": "06d30659-6e28-49d3-feb3-d60f40212de7"
      },
      "execution_count": 47,
      "outputs": [
        {
          "output_type": "stream",
          "name": "stdout",
          "text": [
            "21\n"
          ]
        }
      ]
    },
    {
      "cell_type": "code",
      "source": [
        "print(1,2,3)\n",
        "\n",
        "print(\"New Line\", end=\"++++++\")\n",
        "\n",
        "print(\"Hello\")\n",
        "\n",
        "print(\"Hello\"+\"world\")\n",
        "print(\"Hello\",\"world\")"
      ],
      "metadata": {
        "colab": {
          "base_uri": "https://localhost:8080/"
        },
        "id": "Z1RZ-Qu2FkFa",
        "outputId": "7621a52a-1ae1-40a7-8ef6-adbc5e79a9e8"
      },
      "execution_count": 56,
      "outputs": [
        {
          "output_type": "stream",
          "name": "stdout",
          "text": [
            "1 2 3\n",
            "New Line++++++Hello\n",
            "Helloworld\n",
            "Hello world\n"
          ]
        }
      ]
    },
    {
      "cell_type": "code",
      "source": [
        "text = \"CMU 123\"\n",
        "\n",
        "print(text[0])\n",
        "\n",
        "print(text[-1])\n",
        "\n",
        "#slicing \n",
        "print(text[0:3]) # [0,1,2]\n",
        "# CMU\n",
        "\n",
        "print(text[:3]) # [0,1,2]\n",
        "# CMU\n",
        "\n",
        "print(text[3:]) # [3,4,5,....]\n",
        "#  123"
      ],
      "metadata": {
        "colab": {
          "base_uri": "https://localhost:8080/"
        },
        "id": "xaK8_f-dGoZi",
        "outputId": "4e1b30ba-d81f-47da-f034-1927e75c869d"
      },
      "execution_count": 62,
      "outputs": [
        {
          "output_type": "stream",
          "name": "stdout",
          "text": [
            "C\n",
            "3\n",
            "CMU\n",
            "CMU\n",
            " 123\n"
          ]
        }
      ]
    },
    {
      "cell_type": "code",
      "source": [
        "# String Format\n",
        "\n",
        "print(\"{} {} {}\".format(1,10,100))\n",
        "\n",
        "print(\"{:.8f}\".format(1))\n",
        "\n",
        "print(\"-->{:4d}<--\".format(1000))\n",
        "print(\"-->{:4d}<--\".format(700))\n",
        "\n",
        "print(\"-->{:4d}<--\".format(70000))"
      ],
      "metadata": {
        "colab": {
          "base_uri": "https://localhost:8080/"
        },
        "id": "Ovu7N7lGH6Gc",
        "outputId": "8ac49b78-b59c-4f28-d386-db7e4f40b31d"
      },
      "execution_count": 74,
      "outputs": [
        {
          "output_type": "stream",
          "name": "stdout",
          "text": [
            "1 10 100\n",
            "1.00000000\n",
            "-->1000<--\n",
            "--> 700<--\n",
            "-->70000<--\n"
          ]
        }
      ]
    },
    {
      "cell_type": "code",
      "source": [
        "# ESCAPE SEQUENCES\n",
        "\n",
        "print(\"Chiang Mai\\nUniversity\")\n",
        "\n",
        "print(\"Chiang Mai\\\\University\")\n",
        "\n",
        "print(\"Chiang Mai\\tUniversity\")"
      ],
      "metadata": {
        "colab": {
          "base_uri": "https://localhost:8080/"
        },
        "id": "fls1NQLNJM_p",
        "outputId": "4ba01c5b-ec2e-4590-cdfb-01b51c361187"
      },
      "execution_count": 78,
      "outputs": [
        {
          "output_type": "stream",
          "name": "stdout",
          "text": [
            "Chiang Mai\n",
            "University\n",
            "Chiang Mai\\University\n",
            "Chiang Mai\tUniversity\n"
          ]
        }
      ]
    },
    {
      "cell_type": "code",
      "source": [
        "# List\n",
        "\n",
        "l = [1,2,3,\"Box\"]\n",
        "\n",
        "print(len(l[3]))\n",
        "\n",
        "l.append(7) # ใส่ได้ทีละตัว\n",
        "print(l)\n",
        "\n",
        "l.extend([8,9,10]) # ใส่ได้พร้อมกันหลายๆตัว\n",
        "print(l)\n",
        "\n",
        "# Nested\n",
        "# list ซ้อนกันหลายๆตัว\n",
        "\n",
        "l =  [\"Happy\", [2,0,1,5], ['x'], 4]\n",
        "print(l)\n",
        "\n",
        "l.insert(0,4) # insert(ตำแหน่ง index ที่ต้องการ , ค่าที่ต้องการ)\n",
        "print(l)\n",
        "\n",
        "l.remove(4) # ลบเลข 4 ออก ตัวแรกที่เจอ ซ้าย -> ขวา\n",
        "\n",
        "print(l)\n",
        "\n",
        "l.pop(0) # เอา index 0 ออก\n",
        "print(l)\n",
        "\n",
        "# สร้างตัวแปรใหม่\n",
        "k = l.copy()\n",
        "print(\"K is: \",k)\n",
        "k.pop(0)\n",
        "print(\"K is:\",k)\n",
        "print(\"l is:\",l)\n"
      ],
      "metadata": {
        "colab": {
          "base_uri": "https://localhost:8080/"
        },
        "id": "DsDQiRvSKRtk",
        "outputId": "fe0f974a-7155-4f8d-afce-92b9b218a4d9"
      },
      "execution_count": 97,
      "outputs": [
        {
          "output_type": "stream",
          "name": "stdout",
          "text": [
            "3\n",
            "[1, 2, 3, 'Box', 7]\n",
            "[1, 2, 3, 'Box', 7, 8, 9, 10]\n",
            "['Happy', [2, 0, 1, 5], ['x'], 4]\n",
            "[4, 'Happy', [2, 0, 1, 5], ['x'], 4]\n",
            "['Happy', [2, 0, 1, 5], ['x'], 4]\n",
            "[[2, 0, 1, 5], ['x'], 4]\n",
            "K is:  [[2, 0, 1, 5], ['x'], 4]\n",
            "K is: [['x'], 4]\n",
            "l is: [[2, 0, 1, 5], ['x'], 4]\n"
          ]
        }
      ]
    },
    {
      "cell_type": "code",
      "source": [
        "# IF ELSE\n",
        "\n",
        "age = 31\n",
        "if age < 20:\n",
        "  print(\"age less than 20\")\n",
        "elif age < 25:\n",
        "  print(\" Age is less than 25\")\n",
        "else:\n",
        "  print(\"age is 25+\")\n",
        "\n",
        "# nested if else\n",
        "\n",
        "if age <35:\n",
        "  if age >30:\n",
        "    print(\"age between 31-34\")\n",
        "  else:\n",
        "    print(\"age less than 30\")\n",
        "else:\n",
        "  print(\"age is 35+\")"
      ],
      "metadata": {
        "colab": {
          "base_uri": "https://localhost:8080/"
        },
        "id": "NGXnwX8VNYP6",
        "outputId": "9e576a5b-7311-41b7-e435-d5eddb4b5822"
      },
      "execution_count": 103,
      "outputs": [
        {
          "output_type": "stream",
          "name": "stdout",
          "text": [
            "age is 25+\n",
            "age between 31-34\n"
          ]
        }
      ]
    },
    {
      "cell_type": "code",
      "source": [
        "# While Loop\n",
        "\n",
        "i = 0\n",
        "while i < 10:\n",
        "  print(i)\n",
        "  i+=1\n",
        "\n",
        "# for Loop\n",
        "\n",
        "for i in range(0,10,2): # range(start , end, step)\n",
        "  print(i)"
      ],
      "metadata": {
        "colab": {
          "base_uri": "https://localhost:8080/"
        },
        "id": "3NDvIWPwPI6r",
        "outputId": "a122ba54-01b8-4ff1-9cfa-36408e02b75d"
      },
      "execution_count": 113,
      "outputs": [
        {
          "output_type": "stream",
          "name": "stdout",
          "text": [
            "0\n",
            "2\n",
            "4\n",
            "6\n",
            "8\n"
          ]
        }
      ]
    },
    {
      "cell_type": "code",
      "source": [
        "# Lab 7.3 Option 1\n",
        "z = 'Y'\n",
        "\n",
        "while z == 'Y':\n",
        "  x = int(input('Enter x: '))\n",
        "  y = int(input('Enter y: '))\n",
        "  print('x%y =',x % y)\n",
        "  z = input('Would you like to continue? (Y/N): ')\n",
        "  while z != 'Y' and z != 'N':\n",
        "    z = input('Would you like to continue? (Y/N): ')\n",
        "print('End of program')"
      ],
      "metadata": {
        "colab": {
          "base_uri": "https://localhost:8080/"
        },
        "id": "EfKeqLZcQm2o",
        "outputId": "d317381d-6294-49c3-f786-85d64885b618"
      },
      "execution_count": 114,
      "outputs": [
        {
          "output_type": "stream",
          "name": "stdout",
          "text": [
            "Enter x: 5\n",
            "Enter y: 6\n",
            "x%y = 5\n",
            "Would you like to continue? (Y/N): n\n",
            "Would you like to continue? (Y/N): n\n",
            "Would you like to continue? (Y/N): s\n",
            "Would you like to continue? (Y/N): d\n",
            "Would you like to continue? (Y/N): Y\n",
            "Enter x: 4\n",
            "Enter y: 5\n",
            "x%y = 4\n",
            "Would you like to continue? (Y/N): N\n",
            "End of program\n"
          ]
        }
      ]
    },
    {
      "cell_type": "code",
      "source": [
        "# Lab 7.3 Option 2 \n",
        "\n",
        "z = 'Y'\n",
        "while z != 'N':\n",
        "  if z == 'Y':\n",
        "    x = int(input('Enter x: '))\n",
        "    y = int(input('Enter y: '))\n",
        "    print('x%y =',x % y)\n",
        "    z = input('Would you like to continue? (Y/N): ')\n",
        "  else:\n",
        "    z = input('Would you like to continue? (Y/N): ')\n",
        "print('End of program')"
      ],
      "metadata": {
        "colab": {
          "base_uri": "https://localhost:8080/"
        },
        "id": "kuM7cx53RkJX",
        "outputId": "b3af85b7-7d92-427a-9013-159aa9049d5c"
      },
      "execution_count": 115,
      "outputs": [
        {
          "output_type": "stream",
          "name": "stdout",
          "text": [
            "Enter x: 3\n",
            "Enter y: 4\n",
            "x%y = 3\n",
            "Would you like to continue? (Y/N): r\n",
            "Would you like to continue? (Y/N): s\n",
            "Would you like to continue? (Y/N): w\n",
            "Would you like to continue? (Y/N): y\n",
            "Would you like to continue? (Y/N): n\n",
            "Would you like to continue? (Y/N): Y\n",
            "Enter x: 8\n",
            "Enter y: 6\n",
            "x%y = 2\n",
            "Would you like to continue? (Y/N): N\n",
            "End of program\n"
          ]
        }
      ]
    },
    {
      "cell_type": "code",
      "source": [
        "# Lab 7.5 option 1\n",
        "\n",
        "n = 1\n",
        "x = []\n",
        "k = 0\n",
        "\n",
        "while n != -1:\n",
        "    n = float(input('data[{}] = '.format(k)))\n",
        "    x.append(n)\n",
        "    k += 1\n",
        "\n",
        "\n",
        "print(x[:-1])\n",
        "print('Total sum: {:.2f}'.format(sum(x[:-1])))\n",
        "print('Average: {:.2f}'.format(sum(x[:-1])/len(x[:-1])))"
      ],
      "metadata": {
        "colab": {
          "base_uri": "https://localhost:8080/"
        },
        "id": "qLja97YRSZ86",
        "outputId": "245659c0-963c-43c4-c5e5-8ccd18ea5c92"
      },
      "execution_count": 117,
      "outputs": [
        {
          "output_type": "stream",
          "name": "stdout",
          "text": [
            "data[0] = 1\n",
            "data[1] = 2\n",
            "data[2] = 3\n",
            "data[3] = 4\n",
            "data[4] = 5\n",
            "data[5] = -1\n",
            "[1.0, 2.0, 3.0, 4.0, 5.0]\n",
            "Total sum: 15.00\n",
            "Average: 3.00\n"
          ]
        }
      ]
    },
    {
      "cell_type": "code",
      "source": [
        "# Lab 7.5 option 2\n",
        "\n",
        "n = 1\n",
        "x = []\n",
        "\n",
        "\n",
        "while n != -1:\n",
        "    n = float(input('data[{}] = '.format(len(x))))\n",
        "    x.append(n)\n",
        "    \n",
        "\n",
        "\n",
        "print(x[:-1])\n",
        "print('Total sum: {:.2f}'.format(sum(x[:-1])))\n",
        "print('Average: {:.2f}'.format(sum(x[:-1])/len(x[:-1])))"
      ],
      "metadata": {
        "colab": {
          "base_uri": "https://localhost:8080/"
        },
        "id": "A0gLYX4AS4Jh",
        "outputId": "225e886a-4d3c-4256-b0b5-cf722f3148b9"
      },
      "execution_count": 120,
      "outputs": [
        {
          "output_type": "stream",
          "name": "stdout",
          "text": [
            "data[0] = 1\n",
            "data[1] = 2\n",
            "data[2] = 3\n",
            "data[3] = 4\n",
            "data[4] = 5\n",
            "data[5] = -1\n",
            "[1.0, 2.0, 3.0, 4.0, 5.0]\n",
            "Total sum: 15.00\n",
            "Average: 3.00\n"
          ]
        }
      ]
    },
    {
      "cell_type": "code",
      "source": [
        "# Lab 7.5 option 3\n",
        "n = 1\n",
        "x = []\n",
        "\n",
        "\n",
        "while n != -1:\n",
        "    n = float(input('data[{}] = '.format(len(x))))\n",
        "    if(n != -1):\n",
        "      x.append(n)\n",
        "    \n",
        "\n",
        "\n",
        "print(x)\n",
        "print('Total sum: {:.2f}'.format(sum(x)))\n",
        "print('Average: {:.2f}'.format(sum(x)/len(x)))"
      ],
      "metadata": {
        "id": "_qoXVIczTnDO"
      },
      "execution_count": null,
      "outputs": []
    },
    {
      "cell_type": "markdown",
      "source": [
        "# Part P'Arm"
      ],
      "metadata": {
        "id": "vdIvXe6FisTE"
      }
    },
    {
      "cell_type": "code",
      "source": [
        "print(\"Displaying even numbers from 0 to n\")\n",
        "n = int(input(\"Enter n: \"))\n",
        "for i in range(0,n+1,2):\n",
        "    print(i,end=\" \")"
      ],
      "metadata": {
        "colab": {
          "base_uri": "https://localhost:8080/"
        },
        "id": "tHKP0nJ-iusl",
        "outputId": "004a5489-b750-497e-bd79-665341bcbbcc"
      },
      "execution_count": 1,
      "outputs": [
        {
          "output_type": "stream",
          "name": "stdout",
          "text": [
            "Displaying even numbers from 0 to n\n",
            "Enter n: 8\n",
            "0 2 4 6 8 "
          ]
        }
      ]
    },
    {
      "cell_type": "code",
      "source": [
        "print(\"Displaying even numbers from 0 to n\")\n",
        "n = int(input(\"Enter n: \"))\n",
        "for i in range(0,n+1,2):\n",
        "    print(i,end=\" \")"
      ],
      "metadata": {
        "colab": {
          "base_uri": "https://localhost:8080/"
        },
        "id": "VGCQk45kjDMv",
        "outputId": "342d8ee2-2c12-42f2-adce-5c37f04c0fc4"
      },
      "execution_count": 2,
      "outputs": [
        {
          "output_type": "stream",
          "name": "stdout",
          "text": [
            "Displaying even numbers from 0 to n\n",
            "Enter n: 13\n",
            "0 2 4 6 8 10 12 "
          ]
        }
      ]
    },
    {
      "cell_type": "markdown",
      "source": [
        "\n",
        "\n",
        "---\n",
        "\n"
      ],
      "metadata": {
        "id": "mpEFsr48lmzO"
      }
    },
    {
      "cell_type": "code",
      "source": [
        "print(\"Displaying even numbers from m to n\")\n",
        "m = int(input(\"Enter m: \")) # add the start number\n",
        "n = int(input(\"Enter n: \"))\n",
        "for i in range(m,n+1,2):\n",
        "    print(i,end=\" \")"
      ],
      "metadata": {
        "colab": {
          "base_uri": "https://localhost:8080/"
        },
        "id": "GWtHvHkalozn",
        "outputId": "1c1f886d-0923-4dfb-ca4d-46dccd3332f0"
      },
      "execution_count": 3,
      "outputs": [
        {
          "output_type": "stream",
          "name": "stdout",
          "text": [
            "Displaying even numbers from m to n\n",
            "Enter m: 0\n",
            "Enter n: 13\n",
            "0 2 4 6 8 10 12 "
          ]
        }
      ]
    },
    {
      "cell_type": "code",
      "source": [
        "print(\"Displaying even numbers from m to n\")\n",
        "m = int(input(\"Enter m: \")) # add the start number\n",
        "n = int(input(\"Enter n: \"))\n",
        "for i in range(m,n+1,2):\n",
        "    print(i,end=\" \")"
      ],
      "metadata": {
        "colab": {
          "base_uri": "https://localhost:8080/"
        },
        "id": "blWzwhJwlvSx",
        "outputId": "75eb2243-8885-418b-98e4-5fe4d102302f"
      },
      "execution_count": 4,
      "outputs": [
        {
          "output_type": "stream",
          "name": "stdout",
          "text": [
            "Displaying even numbers from m to n\n",
            "Enter m: 1\n",
            "Enter n: 13\n",
            "1 3 5 7 9 11 13 "
          ]
        }
      ]
    },
    {
      "cell_type": "code",
      "source": [
        "print(\"Displaying even numbers from m to n\")\n",
        "m = int(input(\"Enter m: \")) # add the start number\n",
        "n = int(input(\"Enter n: \"))\n",
        "for i in range(m,n+1):\n",
        "    if i%2 == 0: # if (i%2 != 0) for odd number  \n",
        "      print(i,end=\" \")"
      ],
      "metadata": {
        "colab": {
          "base_uri": "https://localhost:8080/"
        },
        "id": "bcV2vX9klz2M",
        "outputId": "ef9f912a-924b-460e-d8ca-3a0a32d7d07a"
      },
      "execution_count": 5,
      "outputs": [
        {
          "output_type": "stream",
          "name": "stdout",
          "text": [
            "Displaying even numbers from m to n\n",
            "Enter m: 1\n",
            "Enter n: 13\n",
            "2 4 6 8 10 12 "
          ]
        }
      ]
    }
  ]
}